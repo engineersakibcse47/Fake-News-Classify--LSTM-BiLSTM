{
 "cells": [
  {
   "cell_type": "code",
   "execution_count": 1,
   "id": "ef3a8cb4",
   "metadata": {},
   "outputs": [],
   "source": [
    "import re\n",
    "import numpy as np\n",
    "import pandas as pd\n",
    "import matplotlib.pyplot as plt\n",
    "from gensim.models import Word2Vec\n",
    "from nltk.corpus import stopwords\n",
    "from nltk.stem import WordNetLemmatizer\n",
    "from keras.preprocessing.text import Tokenizer\n",
    "from keras.preprocessing.sequence import pad_sequences\n",
    "from keras.models import Sequential\n",
    "from keras.layers import LSTM, Dense, Embedding, Bidirectional, Dropout\n",
    "from tensorflow.keras.optimizers.legacy import Adam as LegacyAdamfrom \n",
    "from tensorflow.keras.regularizers import l1_l2\n",
    "from sklearn.model_selection import train_test_split\n",
    "from keras.callbacks import EarlyStopping\n",
    "import nltk"
   ]
  },
  {
   "cell_type": "code",
   "execution_count": 4,
   "id": "d23e50a4",
   "metadata": {},
   "outputs": [],
   "source": [
    "df=pd.read_csv('train.csv')"
   ]
  },
  {
   "cell_type": "code",
   "execution_count": 5,
   "id": "ff25eab3",
   "metadata": {},
   "outputs": [
    {
     "data": {
      "text/html": [
       "<div>\n",
       "<style scoped>\n",
       "    .dataframe tbody tr th:only-of-type {\n",
       "        vertical-align: middle;\n",
       "    }\n",
       "\n",
       "    .dataframe tbody tr th {\n",
       "        vertical-align: top;\n",
       "    }\n",
       "\n",
       "    .dataframe thead th {\n",
       "        text-align: right;\n",
       "    }\n",
       "</style>\n",
       "<table border=\"1\" class=\"dataframe\">\n",
       "  <thead>\n",
       "    <tr style=\"text-align: right;\">\n",
       "      <th></th>\n",
       "      <th>id</th>\n",
       "      <th>title</th>\n",
       "      <th>author</th>\n",
       "      <th>text</th>\n",
       "      <th>label</th>\n",
       "    </tr>\n",
       "  </thead>\n",
       "  <tbody>\n",
       "    <tr>\n",
       "      <th>0</th>\n",
       "      <td>0</td>\n",
       "      <td>House Dem Aide: We Didn’t Even See Comey’s Let...</td>\n",
       "      <td>Darrell Lucus</td>\n",
       "      <td>House Dem Aide: We Didn’t Even See Comey’s Let...</td>\n",
       "      <td>1</td>\n",
       "    </tr>\n",
       "    <tr>\n",
       "      <th>1</th>\n",
       "      <td>1</td>\n",
       "      <td>FLYNN: Hillary Clinton, Big Woman on Campus - ...</td>\n",
       "      <td>Daniel J. Flynn</td>\n",
       "      <td>Ever get the feeling your life circles the rou...</td>\n",
       "      <td>0</td>\n",
       "    </tr>\n",
       "    <tr>\n",
       "      <th>2</th>\n",
       "      <td>2</td>\n",
       "      <td>Why the Truth Might Get You Fired</td>\n",
       "      <td>Consortiumnews.com</td>\n",
       "      <td>Why the Truth Might Get You Fired October 29, ...</td>\n",
       "      <td>1</td>\n",
       "    </tr>\n",
       "    <tr>\n",
       "      <th>3</th>\n",
       "      <td>3</td>\n",
       "      <td>15 Civilians Killed In Single US Airstrike Hav...</td>\n",
       "      <td>Jessica Purkiss</td>\n",
       "      <td>Videos 15 Civilians Killed In Single US Airstr...</td>\n",
       "      <td>1</td>\n",
       "    </tr>\n",
       "    <tr>\n",
       "      <th>4</th>\n",
       "      <td>4</td>\n",
       "      <td>Iranian woman jailed for fictional unpublished...</td>\n",
       "      <td>Howard Portnoy</td>\n",
       "      <td>Print \\nAn Iranian woman has been sentenced to...</td>\n",
       "      <td>1</td>\n",
       "    </tr>\n",
       "  </tbody>\n",
       "</table>\n",
       "</div>"
      ],
      "text/plain": [
       "   id                                              title              author  \\\n",
       "0   0  House Dem Aide: We Didn’t Even See Comey’s Let...       Darrell Lucus   \n",
       "1   1  FLYNN: Hillary Clinton, Big Woman on Campus - ...     Daniel J. Flynn   \n",
       "2   2                  Why the Truth Might Get You Fired  Consortiumnews.com   \n",
       "3   3  15 Civilians Killed In Single US Airstrike Hav...     Jessica Purkiss   \n",
       "4   4  Iranian woman jailed for fictional unpublished...      Howard Portnoy   \n",
       "\n",
       "                                                text  label  \n",
       "0  House Dem Aide: We Didn’t Even See Comey’s Let...      1  \n",
       "1  Ever get the feeling your life circles the rou...      0  \n",
       "2  Why the Truth Might Get You Fired October 29, ...      1  \n",
       "3  Videos 15 Civilians Killed In Single US Airstr...      1  \n",
       "4  Print \\nAn Iranian woman has been sentenced to...      1  "
      ]
     },
     "execution_count": 5,
     "metadata": {},
     "output_type": "execute_result"
    }
   ],
   "source": [
    "df.head()"
   ]
  },
  {
   "cell_type": "markdown",
   "id": "4c1953bd",
   "metadata": {},
   "source": [
    "### Preprocessing and Feature Engineering"
   ]
  },
  {
   "cell_type": "code",
   "execution_count": 6,
   "id": "da0db086",
   "metadata": {},
   "outputs": [],
   "source": [
    "df[\"text\"] = df[\"title\"] + \" \" + df[\"text\"]"
   ]
  },
  {
   "cell_type": "code",
   "execution_count": 7,
   "id": "ee4c0972",
   "metadata": {},
   "outputs": [],
   "source": [
    "df.dropna(subset=['text'], inplace=True)"
   ]
  },
  {
   "cell_type": "code",
   "execution_count": 8,
   "id": "2ada6af3",
   "metadata": {},
   "outputs": [],
   "source": [
    "df.drop(columns=['id', 'author', 'title'], inplace=True)"
   ]
  },
  {
   "cell_type": "code",
   "execution_count": 9,
   "id": "962e1214",
   "metadata": {},
   "outputs": [
    {
     "data": {
      "text/html": [
       "<div>\n",
       "<style scoped>\n",
       "    .dataframe tbody tr th:only-of-type {\n",
       "        vertical-align: middle;\n",
       "    }\n",
       "\n",
       "    .dataframe tbody tr th {\n",
       "        vertical-align: top;\n",
       "    }\n",
       "\n",
       "    .dataframe thead th {\n",
       "        text-align: right;\n",
       "    }\n",
       "</style>\n",
       "<table border=\"1\" class=\"dataframe\">\n",
       "  <thead>\n",
       "    <tr style=\"text-align: right;\">\n",
       "      <th></th>\n",
       "      <th>text</th>\n",
       "      <th>label</th>\n",
       "    </tr>\n",
       "  </thead>\n",
       "  <tbody>\n",
       "    <tr>\n",
       "      <th>0</th>\n",
       "      <td>House Dem Aide: We Didn’t Even See Comey’s Let...</td>\n",
       "      <td>1</td>\n",
       "    </tr>\n",
       "    <tr>\n",
       "      <th>1</th>\n",
       "      <td>FLYNN: Hillary Clinton, Big Woman on Campus - ...</td>\n",
       "      <td>0</td>\n",
       "    </tr>\n",
       "    <tr>\n",
       "      <th>2</th>\n",
       "      <td>Why the Truth Might Get You Fired Why the Trut...</td>\n",
       "      <td>1</td>\n",
       "    </tr>\n",
       "    <tr>\n",
       "      <th>3</th>\n",
       "      <td>15 Civilians Killed In Single US Airstrike Hav...</td>\n",
       "      <td>1</td>\n",
       "    </tr>\n",
       "    <tr>\n",
       "      <th>4</th>\n",
       "      <td>Iranian woman jailed for fictional unpublished...</td>\n",
       "      <td>1</td>\n",
       "    </tr>\n",
       "  </tbody>\n",
       "</table>\n",
       "</div>"
      ],
      "text/plain": [
       "                                                text  label\n",
       "0  House Dem Aide: We Didn’t Even See Comey’s Let...      1\n",
       "1  FLYNN: Hillary Clinton, Big Woman on Campus - ...      0\n",
       "2  Why the Truth Might Get You Fired Why the Trut...      1\n",
       "3  15 Civilians Killed In Single US Airstrike Hav...      1\n",
       "4  Iranian woman jailed for fictional unpublished...      1"
      ]
     },
     "execution_count": 9,
     "metadata": {},
     "output_type": "execute_result"
    }
   ],
   "source": [
    "df.head()"
   ]
  },
  {
   "cell_type": "code",
   "execution_count": 3,
   "id": "ea713e54",
   "metadata": {},
   "outputs": [],
   "source": [
    "# Initialize lemmatizer\n",
    "lemmatizer = WordNetLemmatizer()"
   ]
  },
  {
   "cell_type": "code",
   "execution_count": 10,
   "id": "b3cda74f",
   "metadata": {},
   "outputs": [],
   "source": [
    "# Define a function\n",
    "def preprocess_text(text):\n",
    "    # Remove HTML tags\n",
    "    text = re.sub(r'<.*?>', '', text)\n",
    "    # Remove special characters and numbers\n",
    "    text = re.sub(r'[^a-zA-Z\\s]', '', text)\n",
    "    # Convert to lowercase\n",
    "    text = text.lower()\n",
    "    # Tokenize\n",
    "    tokens = text.split()\n",
    "    # Remove stop words and lemmatize\n",
    "    tokens = [lemmatizer.lemmatize(word) for word in tokens if word not in stopwords.words('english')]\n",
    "    return tokens"
   ]
  },
  {
   "cell_type": "code",
   "execution_count": 11,
   "id": "8077e7f0",
   "metadata": {},
   "outputs": [],
   "source": [
    "# Apply preprocessing to each text in the dataframe\n",
    "df['clean_text'] = df['text'].apply(preprocess_text)"
   ]
  },
  {
   "cell_type": "code",
   "execution_count": 12,
   "id": "aed1f558",
   "metadata": {},
   "outputs": [
    {
     "data": {
      "text/plain": [
       "['house',\n",
       " 'dem',\n",
       " 'aide',\n",
       " 'didnt',\n",
       " 'even',\n",
       " 'see',\n",
       " 'comeys',\n",
       " 'letter',\n",
       " 'jason',\n",
       " 'chaffetz',\n",
       " 'tweeted',\n",
       " 'house',\n",
       " 'dem',\n",
       " 'aide',\n",
       " 'didnt',\n",
       " 'even',\n",
       " 'see',\n",
       " 'comeys',\n",
       " 'letter',\n",
       " 'jason',\n",
       " 'chaffetz',\n",
       " 'tweeted',\n",
       " 'darrell',\n",
       " 'lucus',\n",
       " 'october',\n",
       " 'subscribe',\n",
       " 'jason',\n",
       " 'chaffetz',\n",
       " 'stump',\n",
       " 'american',\n",
       " 'fork',\n",
       " 'utah',\n",
       " 'image',\n",
       " 'courtesy',\n",
       " 'michael',\n",
       " 'jolley',\n",
       " 'available',\n",
       " 'creative',\n",
       " 'commonsby',\n",
       " 'license',\n",
       " 'apology',\n",
       " 'keith',\n",
       " 'olbermann',\n",
       " 'doubt',\n",
       " 'worst',\n",
       " 'person',\n",
       " 'world',\n",
       " 'weekfbi',\n",
       " 'director',\n",
       " 'james',\n",
       " 'comey',\n",
       " 'according',\n",
       " 'house',\n",
       " 'democratic',\n",
       " 'aide',\n",
       " 'look',\n",
       " 'like',\n",
       " 'also',\n",
       " 'know',\n",
       " 'secondworst',\n",
       " 'person',\n",
       " 'well',\n",
       " 'turn',\n",
       " 'comey',\n",
       " 'sent',\n",
       " 'nowinfamous',\n",
       " 'letter',\n",
       " 'announcing',\n",
       " 'fbi',\n",
       " 'looking',\n",
       " 'email',\n",
       " 'may',\n",
       " 'related',\n",
       " 'hillary',\n",
       " 'clinton',\n",
       " 'email',\n",
       " 'server',\n",
       " 'ranking',\n",
       " 'democrat',\n",
       " 'relevant',\n",
       " 'committee',\n",
       " 'didnt',\n",
       " 'hear',\n",
       " 'comey',\n",
       " 'found',\n",
       " 'via',\n",
       " 'tweet',\n",
       " 'one',\n",
       " 'republican',\n",
       " 'committee',\n",
       " 'chairman',\n",
       " 'know',\n",
       " 'comey',\n",
       " 'notified',\n",
       " 'republican',\n",
       " 'chairman',\n",
       " 'democratic',\n",
       " 'ranking',\n",
       " 'member',\n",
       " 'house',\n",
       " 'intelligence',\n",
       " 'judiciary',\n",
       " 'oversight',\n",
       " 'committee',\n",
       " 'agency',\n",
       " 'reviewing',\n",
       " 'email',\n",
       " 'recently',\n",
       " 'discovered',\n",
       " 'order',\n",
       " 'see',\n",
       " 'contained',\n",
       " 'classified',\n",
       " 'information',\n",
       " 'long',\n",
       " 'letter',\n",
       " 'went',\n",
       " 'oversight',\n",
       " 'committee',\n",
       " 'chairman',\n",
       " 'jason',\n",
       " 'chaffetz',\n",
       " 'set',\n",
       " 'political',\n",
       " 'world',\n",
       " 'ablaze',\n",
       " 'tweet',\n",
       " 'fbi',\n",
       " 'dir',\n",
       " 'informed',\n",
       " 'fbi',\n",
       " 'learned',\n",
       " 'existence',\n",
       " 'email',\n",
       " 'appear',\n",
       " 'pertinent',\n",
       " 'investigation',\n",
       " 'case',\n",
       " 'reopened',\n",
       " 'jason',\n",
       " 'chaffetz',\n",
       " 'jasoninthehouse',\n",
       " 'october',\n",
       " 'course',\n",
       " 'know',\n",
       " 'case',\n",
       " 'comey',\n",
       " 'actually',\n",
       " 'saying',\n",
       " 'reviewing',\n",
       " 'email',\n",
       " 'light',\n",
       " 'unrelated',\n",
       " 'casewhich',\n",
       " 'know',\n",
       " 'anthony',\n",
       " 'weiners',\n",
       " 'sexting',\n",
       " 'teenager',\n",
       " 'apparently',\n",
       " 'little',\n",
       " 'thing',\n",
       " 'fact',\n",
       " 'didnt',\n",
       " 'matter',\n",
       " 'chaffetz',\n",
       " 'utah',\n",
       " 'republican',\n",
       " 'already',\n",
       " 'vowed',\n",
       " 'initiate',\n",
       " 'raft',\n",
       " 'investigation',\n",
       " 'hillary',\n",
       " 'winsat',\n",
       " 'least',\n",
       " 'two',\n",
       " 'year',\n",
       " 'worth',\n",
       " 'possibly',\n",
       " 'entire',\n",
       " 'term',\n",
       " 'worth',\n",
       " 'apparently',\n",
       " 'chaffetz',\n",
       " 'thought',\n",
       " 'fbi',\n",
       " 'already',\n",
       " 'work',\n",
       " 'himresulting',\n",
       " 'tweet',\n",
       " 'briefly',\n",
       " 'roiled',\n",
       " 'nation',\n",
       " 'cooler',\n",
       " 'head',\n",
       " 'realized',\n",
       " 'dud',\n",
       " 'according',\n",
       " 'senior',\n",
       " 'house',\n",
       " 'democratic',\n",
       " 'aide',\n",
       " 'misreading',\n",
       " 'letter',\n",
       " 'may',\n",
       " 'least',\n",
       " 'chaffetz',\n",
       " 'sin',\n",
       " 'aide',\n",
       " 'told',\n",
       " 'shareblue',\n",
       " 'bos',\n",
       " 'democrat',\n",
       " 'didnt',\n",
       " 'even',\n",
       " 'know',\n",
       " 'comeys',\n",
       " 'letter',\n",
       " 'timeand',\n",
       " 'found',\n",
       " 'checked',\n",
       " 'twitter',\n",
       " 'democratic',\n",
       " 'ranking',\n",
       " 'member',\n",
       " 'relevant',\n",
       " 'committee',\n",
       " 'didnt',\n",
       " 'receive',\n",
       " 'comeys',\n",
       " 'letter',\n",
       " 'republican',\n",
       " 'chairman',\n",
       " 'fact',\n",
       " 'democratic',\n",
       " 'ranking',\n",
       " 'member',\n",
       " 'receive',\n",
       " 'chairman',\n",
       " 'oversight',\n",
       " 'government',\n",
       " 'reform',\n",
       " 'committee',\n",
       " 'jason',\n",
       " 'chaffetz',\n",
       " 'tweeted',\n",
       " 'made',\n",
       " 'public',\n",
       " 'let',\n",
       " 'see',\n",
       " 'weve',\n",
       " 'got',\n",
       " 'right',\n",
       " 'fbi',\n",
       " 'director',\n",
       " 'tell',\n",
       " 'chaffetz',\n",
       " 'gop',\n",
       " 'committee',\n",
       " 'chairman',\n",
       " 'major',\n",
       " 'development',\n",
       " 'potentially',\n",
       " 'politically',\n",
       " 'explosive',\n",
       " 'investigation',\n",
       " 'neither',\n",
       " 'chaffetz',\n",
       " 'colleague',\n",
       " 'courtesy',\n",
       " 'let',\n",
       " 'democratic',\n",
       " 'counterpart',\n",
       " 'know',\n",
       " 'instead',\n",
       " 'according',\n",
       " 'aide',\n",
       " 'made',\n",
       " 'find',\n",
       " 'twitter',\n",
       " 'already',\n",
       " 'talk',\n",
       " 'daily',\n",
       " 'ko',\n",
       " 'comey',\n",
       " 'provided',\n",
       " 'advance',\n",
       " 'notice',\n",
       " 'letter',\n",
       " 'chaffetz',\n",
       " 'republican',\n",
       " 'giving',\n",
       " 'time',\n",
       " 'turn',\n",
       " 'spin',\n",
       " 'machine',\n",
       " 'may',\n",
       " 'make',\n",
       " 'good',\n",
       " 'theater',\n",
       " 'nothing',\n",
       " 'far',\n",
       " 'even',\n",
       " 'suggests',\n",
       " 'case',\n",
       " 'nothing',\n",
       " 'far',\n",
       " 'suggests',\n",
       " 'comey',\n",
       " 'anything',\n",
       " 'grossly',\n",
       " 'incompetent',\n",
       " 'tonedeaf',\n",
       " 'suggest',\n",
       " 'however',\n",
       " 'chaffetz',\n",
       " 'acting',\n",
       " 'way',\n",
       " 'make',\n",
       " 'dan',\n",
       " 'burton',\n",
       " 'darrell',\n",
       " 'issa',\n",
       " 'look',\n",
       " 'like',\n",
       " 'model',\n",
       " 'responsibility',\n",
       " 'bipartisanship',\n",
       " 'didnt',\n",
       " 'even',\n",
       " 'decency',\n",
       " 'notify',\n",
       " 'ranking',\n",
       " 'member',\n",
       " 'elijah',\n",
       " 'cummings',\n",
       " 'something',\n",
       " 'explosive',\n",
       " 'doesnt',\n",
       " 'trample',\n",
       " 'basic',\n",
       " 'standard',\n",
       " 'fairness',\n",
       " 'dont',\n",
       " 'know',\n",
       " 'granted',\n",
       " 'likely',\n",
       " 'chaffetz',\n",
       " 'answer',\n",
       " 'sits',\n",
       " 'ridiculously',\n",
       " 'republican',\n",
       " 'district',\n",
       " 'anchored',\n",
       " 'provo',\n",
       " 'orem',\n",
       " 'cook',\n",
       " 'partisan',\n",
       " 'voting',\n",
       " 'index',\n",
       " 'r',\n",
       " 'gave',\n",
       " 'mitt',\n",
       " 'romney',\n",
       " 'punishing',\n",
       " 'percent',\n",
       " 'vote',\n",
       " 'moreover',\n",
       " 'republican',\n",
       " 'house',\n",
       " 'leadership',\n",
       " 'given',\n",
       " 'full',\n",
       " 'support',\n",
       " 'chaffetz',\n",
       " 'planned',\n",
       " 'fishing',\n",
       " 'expedition',\n",
       " 'doesnt',\n",
       " 'mean',\n",
       " 'cant',\n",
       " 'turn',\n",
       " 'hot',\n",
       " 'light',\n",
       " 'textbook',\n",
       " 'example',\n",
       " 'house',\n",
       " 'become',\n",
       " 'republican',\n",
       " 'control',\n",
       " 'also',\n",
       " 'second',\n",
       " 'worst',\n",
       " 'person',\n",
       " 'world',\n",
       " 'darrell',\n",
       " 'lucus',\n",
       " 'darrell',\n",
       " 'something',\n",
       " 'graduate',\n",
       " 'university',\n",
       " 'north',\n",
       " 'carolina',\n",
       " 'considers',\n",
       " 'journalist',\n",
       " 'old',\n",
       " 'school',\n",
       " 'attempt',\n",
       " 'turn',\n",
       " 'member',\n",
       " 'religious',\n",
       " 'right',\n",
       " 'college',\n",
       " 'succeeded',\n",
       " 'turning',\n",
       " 'religious',\n",
       " 'right',\n",
       " 'worst',\n",
       " 'nightmarea',\n",
       " 'charismatic',\n",
       " 'christian',\n",
       " 'unapologetic',\n",
       " 'liberal',\n",
       " 'desire',\n",
       " 'stand',\n",
       " 'scared',\n",
       " 'silence',\n",
       " 'increased',\n",
       " 'survived',\n",
       " 'abusive',\n",
       " 'threeyear',\n",
       " 'marriage',\n",
       " 'may',\n",
       " 'know',\n",
       " 'daily',\n",
       " 'ko',\n",
       " 'christian',\n",
       " 'dem',\n",
       " 'nc',\n",
       " 'follow',\n",
       " 'twitter',\n",
       " 'darrelllucus',\n",
       " 'connect',\n",
       " 'facebook',\n",
       " 'click',\n",
       " 'buy',\n",
       " 'darrell',\n",
       " 'mello',\n",
       " 'yello',\n",
       " 'connect']"
      ]
     },
     "execution_count": 12,
     "metadata": {},
     "output_type": "execute_result"
    }
   ],
   "source": [
    "df['clean_text'][0]"
   ]
  },
  {
   "cell_type": "markdown",
   "id": "48eff084",
   "metadata": {},
   "source": [
    "### Word Embedding"
   ]
  },
  {
   "cell_type": "code",
   "execution_count": 18,
   "id": "4a455a9e",
   "metadata": {},
   "outputs": [],
   "source": [
    "# Train Word2Vec model\n",
    "word2vec_model = Word2Vec(sentences=df['clean_text'],\n",
    "                          vector_size=100,\n",
    "                          window=5,\n",
    "                          min_count=1,\n",
    "                          workers=4)"
   ]
  },
  {
   "cell_type": "code",
   "execution_count": 21,
   "id": "3787263e",
   "metadata": {},
   "outputs": [
    {
     "data": {
      "text/plain": [
       "[('steak', 0.7322383522987366),\n",
       " ('chicken', 0.6927421689033508),\n",
       " ('chef', 0.6858146786689758),\n",
       " ('dessert', 0.6839103698730469),\n",
       " ('pizza', 0.6832273006439209),\n",
       " ('recipe', 0.6826137900352478),\n",
       " ('meal', 0.6819060444831848),\n",
       " ('cheese', 0.681879997253418),\n",
       " ('coffee', 0.6780673861503601),\n",
       " ('bagel', 0.6772254109382629)]"
      ]
     },
     "execution_count": 21,
     "metadata": {},
     "output_type": "execute_result"
    }
   ],
   "source": [
    "#sample\n",
    "word2vec_model.wv.most_similar('cook')"
   ]
  },
  {
   "cell_type": "markdown",
   "id": "aaae7e73",
   "metadata": {},
   "source": [
    "### Tokenization"
   ]
  },
  {
   "cell_type": "code",
   "execution_count": 13,
   "id": "e085eb86",
   "metadata": {},
   "outputs": [],
   "source": [
    "tokenizer = Tokenizer()\n",
    "tokenizer.fit_on_texts(df['clean_text'])\n",
    "sequences = tokenizer.texts_to_sequences(df['clean_text'])"
   ]
  },
  {
   "cell_type": "code",
   "execution_count": 60,
   "id": "c2b88dc2",
   "metadata": {},
   "outputs": [
    {
     "data": {
      "image/png": "[encoded data removed]",
      "text/plain": [
       "<Figure size 640x480 with 1 Axes>"
      ]
     },
     "metadata": {},
     "output_type": "display_data"
    }
   ],
   "source": [
    "plt.hist([len(word) for word in sequences], bins=1000)\n",
    "plt.show()"
   ]
  },
  {
   "cell_type": "code",
   "execution_count": 17,
   "id": "f411d518",
   "metadata": {},
   "outputs": [],
   "source": [
    "# Pad sequences to ensure uniform length\n",
    "max_sequence_length = 1000\n",
    "data = pad_sequences(sequences, maxlen=max_sequence_length)"
   ]
  },
  {
   "cell_type": "code",
   "execution_count": null,
   "id": "432ef9fb",
   "metadata": {},
   "outputs": [],
   "source": [
    "vocab_size = len(word_index) + 1"
   ]
  },
  {
   "cell_type": "code",
   "execution_count": 22,
   "id": "cb8bed69",
   "metadata": {},
   "outputs": [],
   "source": [
    "# Prepare the embedding matrix\n",
    "word_index = tokenizer.word_index\n",
    "embedding_matrix = np.zeros((vocab_size, 100))\n",
    "for word, i in word_index.items():\n",
    "    if word in word2vec_model.wv:\n",
    "        embedding_matrix[i] = word2vec_model.wv[word]"
   ]
  },
  {
   "cell_type": "code",
   "execution_count": 43,
   "id": "d0683747",
   "metadata": {},
   "outputs": [
    {
     "data": {
      "text/plain": [
       "(165366, 100)"
      ]
     },
     "execution_count": 43,
     "metadata": {},
     "output_type": "execute_result"
    }
   ],
   "source": [
    "embedding_matrix.shape"
   ]
  },
  {
   "cell_type": "markdown",
   "id": "89c12d2e",
   "metadata": {},
   "source": [
    "### Train Test Split"
   ]
  },
  {
   "cell_type": "code",
   "execution_count": 25,
   "id": "2096af95",
   "metadata": {},
   "outputs": [],
   "source": [
    "# Split the data into training and testing sets\n",
    "X_train, X_test, y_train, y_test = train_test_split(data, df['label'], test_size=0.3, random_state=42)"
   ]
  },
  {
   "cell_type": "markdown",
   "id": "7147ccd1",
   "metadata": {},
   "source": [
    "### Model Building"
   ]
  },
  {
   "cell_type": "code",
   "execution_count": 44,
   "id": "fdd8c591",
   "metadata": {},
   "outputs": [],
   "source": [
    "# Define the LSTM model with regularization and a bidirectional layer\n",
    "model = Sequential()\n",
    "model.add(Embedding(vocab_size, 100, weights=[embedding_matrix], input_length=max_sequence_length, trainable=False))\n",
    "model.add(Bidirectional(LSTM(128, return_sequences=False, kernel_regularizer=l1_l2(l1=1e-5, l2=1e-4))))\n",
    "model.add(Dropout(0.1))\n",
    "model.add(Dense(1, activation='sigmoid'))"
   ]
  },
  {
   "cell_type": "code",
   "execution_count": 46,
   "id": "c35e3c2d",
   "metadata": {},
   "outputs": [
    {
     "name": "stdout",
     "output_type": "stream",
     "text": [
      "Model: \"sequential_1\"\n",
      "_________________________________________________________________\n",
      " Layer (type)                Output Shape              Param #   \n",
      "=================================================================\n",
      " embedding_1 (Embedding)     (None, 1000, 100)         16536600  \n",
      "                                                                 \n",
      " bidirectional_1 (Bidirecti  (None, 256)               234496    \n",
      " onal)                                                           \n",
      "                                                                 \n",
      " dropout_1 (Dropout)         (None, 256)               0         \n",
      "                                                                 \n",
      " dense_1 (Dense)             (None, 1)                 257       \n",
      "                                                                 \n",
      "=================================================================\n",
      "Total params: 16771353 (63.98 MB)\n",
      "Trainable params: 234753 (917.00 KB)\n",
      "Non-trainable params: 16536600 (63.08 MB)\n",
      "_________________________________________________________________\n"
     ]
    }
   ],
   "source": [
    "model.summary()"
   ]
  },
  {
   "cell_type": "code",
   "execution_count": 47,
   "id": "402da216",
   "metadata": {},
   "outputs": [],
   "source": [
    "from tensorflow.keras.optimizers.legacy import Adam as LegacyAdam"
   ]
  },
  {
   "cell_type": "code",
   "execution_count": 48,
   "id": "30c6173b",
   "metadata": {},
   "outputs": [],
   "source": [
    "# Compile the model with hyperparameter tuning\n",
    "model.compile(loss='binary_crossentropy',\n",
    "              optimizer=LegacyAdam(learning_rate=0.001),\n",
    "              metrics=['accuracy'])"
   ]
  },
  {
   "cell_type": "code",
   "execution_count": 49,
   "id": "b7229114",
   "metadata": {},
   "outputs": [],
   "source": [
    "# Train the model with early stopping and a validation set\n",
    "early_stopping = EarlyStopping(monitor='val_loss', patience=3)"
   ]
  },
  {
   "cell_type": "code",
   "execution_count": 50,
   "id": "326f2885",
   "metadata": {},
   "outputs": [
    {
     "name": "stdout",
     "output_type": "stream",
     "text": [
      "Epoch 1/10\n",
      "221/221 [==============================] - 367s 2s/step - loss: 0.3814 - accuracy: 0.8683 - val_loss: 0.2601 - val_accuracy: 0.9225\n",
      "Epoch 2/10\n",
      "221/221 [==============================] - 535s 2s/step - loss: 0.2628 - accuracy: 0.9188 - val_loss: 0.2400 - val_accuracy: 0.9254\n",
      "Epoch 3/10\n",
      "221/221 [==============================] - 406s 2s/step - loss: 0.2612 - accuracy: 0.9159 - val_loss: 0.2854 - val_accuracy: 0.9063\n",
      "Epoch 4/10\n",
      "221/221 [==============================] - 402s 2s/step - loss: 0.2252 - accuracy: 0.9332 - val_loss: 0.2117 - val_accuracy: 0.9378\n",
      "Epoch 5/10\n",
      "221/221 [==============================] - 410s 2s/step - loss: 0.1757 - accuracy: 0.9507 - val_loss: 0.1680 - val_accuracy: 0.9569\n",
      "Epoch 6/10\n",
      "221/221 [==============================] - 378s 2s/step - loss: 0.1326 - accuracy: 0.9680 - val_loss: 0.1417 - val_accuracy: 0.9682\n",
      "Epoch 7/10\n",
      "221/221 [==============================] - 367s 2s/step - loss: 0.1170 - accuracy: 0.9735 - val_loss: 0.1489 - val_accuracy: 0.9611\n",
      "Epoch 8/10\n",
      "221/221 [==============================] - 375s 2s/step - loss: 0.1213 - accuracy: 0.9733 - val_loss: 0.1792 - val_accuracy: 0.9522\n",
      "Epoch 9/10\n",
      "221/221 [==============================] - 359s 2s/step - loss: 0.1122 - accuracy: 0.9768 - val_loss: 0.1279 - val_accuracy: 0.9696\n",
      "Epoch 10/10\n",
      "221/221 [==============================] - 356s 2s/step - loss: 0.0973 - accuracy: 0.9813 - val_loss: 0.1293 - val_accuracy: 0.9705\n"
     ]
    }
   ],
   "source": [
    "history = model.fit(X_train, y_train,\n",
    "          validation_data=(X_test, y_test),\n",
    "          epochs=10,\n",
    "          batch_size=64,\n",
    "          callbacks=[early_stopping])"
   ]
  },
  {
   "cell_type": "markdown",
   "id": "bc9526e1",
   "metadata": {},
   "source": [
    "### Evaluate and Validate"
   ]
  },
  {
   "cell_type": "code",
   "execution_count": 51,
   "id": "0ff5dce0",
   "metadata": {},
   "outputs": [
    {
     "name": "stdout",
     "output_type": "stream",
     "text": [
      "dict_keys(['loss', 'accuracy', 'val_loss', 'val_accuracy'])\n"
     ]
    },
    {
     "data": {
      "text/plain": [
       "<matplotlib.legend.Legend at 0x17fe55d10>"
      ]
     },
     "execution_count": 51,
     "metadata": {},
     "output_type": "execute_result"
    },
    {
     "data": {
      "image/png": "[encoded data removed]",
      "text/plain": [
       "<Figure size 1000x600 with 2 Axes>"
      ]
     },
     "metadata": {},
     "output_type": "display_data"
    }
   ],
   "source": [
    "history_dict = history.history\n",
    "print(history_dict.keys())\n",
    "\n",
    "acc = history_dict['accuracy']\n",
    "val_acc = history_dict['val_accuracy']\n",
    "loss = history_dict['loss']\n",
    "val_loss = history_dict['val_loss']\n",
    "\n",
    "epochs = range(1, len(acc) + 1)\n",
    "fig = plt.figure(figsize=(10, 6))\n",
    "fig.tight_layout()\n",
    "\n",
    "plt.subplot(2, 1, 1)\n",
    "# r is for \"solid red line\"\n",
    "plt.plot(epochs, loss, 'r', label='Training loss')\n",
    "# b is for \"solid blue line\"\n",
    "plt.plot(epochs, val_loss, 'b', label='Validation loss')\n",
    "plt.title('Training and validation loss')\n",
    "# plt.xlabel('Epochs')\n",
    "plt.ylabel('Loss')\n",
    "plt.legend()\n",
    "\n",
    "plt.subplot(2, 1, 2)\n",
    "plt.plot(epochs, acc, 'r', label='Training acc')\n",
    "plt.plot(epochs, val_acc, 'b', label='Validation acc')\n",
    "plt.title('Training and validation accuracy')\n",
    "plt.xlabel('Epochs')\n",
    "plt.ylabel('Accuracy')\n",
    "plt.legend(loc='lower right')"
   ]
  },
  {
   "cell_type": "code",
   "execution_count": 52,
   "id": "1aa07d90",
   "metadata": {},
   "outputs": [
    {
     "name": "stdout",
     "output_type": "stream",
     "text": [
      "190/190 [==============================] - 73s 386ms/step - loss: 0.1293 - accuracy: 0.9705\n",
      "Test Accuracy: 0.9704669117927551\n"
     ]
    }
   ],
   "source": [
    "loss, accuracy = model.evaluate(X_test, y_test)\n",
    "print(f'Test Accuracy: {accuracy}')"
   ]
  },
  {
   "cell_type": "code",
   "execution_count": 53,
   "id": "3f4a66a3",
   "metadata": {},
   "outputs": [],
   "source": [
    "from sklearn.metrics import confusion_matrix, classification_report\n",
    "import seaborn as sns\n",
    "import matplotlib.pyplot as plt"
   ]
  },
  {
   "cell_type": "code",
   "execution_count": 54,
   "id": "5a66ba5d",
   "metadata": {},
   "outputs": [
    {
     "name": "stdout",
     "output_type": "stream",
     "text": [
      "190/190 [==============================] - 67s 349ms/step\n"
     ]
    }
   ],
   "source": [
    "# Predict the values from the test set\n",
    "y_pred = model.predict(X_test)\n",
    "y_pred_classes = (y_pred > 0.5).astype(\"int32\")"
   ]
  },
  {
   "cell_type": "code",
   "execution_count": 55,
   "id": "741a1839",
   "metadata": {},
   "outputs": [
    {
     "data": {
      "text/plain": [
       "array([[3005,  124],\n",
       "       [  55, 2877]])"
      ]
     },
     "execution_count": 55,
     "metadata": {},
     "output_type": "execute_result"
    }
   ],
   "source": [
    "# Compute the confusion matrix\n",
    "cm = confusion_matrix(y_test, y_pred_classes)\n",
    "cm"
   ]
  },
  {
   "cell_type": "code",
   "execution_count": 56,
   "id": "aa7481ac",
   "metadata": {},
   "outputs": [
    {
     "name": "stdout",
     "output_type": "stream",
     "text": [
      "              precision    recall  f1-score   support\n",
      "\n",
      "           0       0.98      0.96      0.97      3129\n",
      "           1       0.96      0.98      0.97      2932\n",
      "\n",
      "    accuracy                           0.97      6061\n",
      "   macro avg       0.97      0.97      0.97      6061\n",
      "weighted avg       0.97      0.97      0.97      6061\n",
      "\n"
     ]
    }
   ],
   "source": [
    "# Print the classification report\n",
    "print(classification_report(y_test, y_pred_classes))"
   ]
  },
  {
   "cell_type": "markdown",
   "id": "24153d00",
   "metadata": {},
   "source": [
    "### Saved Model"
   ]
  },
  {
   "cell_type": "code",
   "execution_count": 27,
   "id": "d6d055ee",
   "metadata": {},
   "outputs": [],
   "source": [
    "from tensorflow.keras.models import save_model"
   ]
  },
  {
   "cell_type": "code",
   "execution_count": null,
   "id": "74421895",
   "metadata": {},
   "outputs": [],
   "source": [
    "model.save('lstm_model.h5')"
   ]
  },
  {
   "cell_type": "markdown",
   "id": "4ca25d95",
   "metadata": {},
   "source": [
    "<h2 style=\"text-align: center;\">The End</h2>"
   ]
  },
  {
   "cell_type": "markdown",
   "id": "8a3300ef",
   "metadata": {},
   "source": [
    "### Kaggel Submission"
   ]
  },
  {
   "cell_type": "code",
   "execution_count": 2,
   "id": "ed1624af",
   "metadata": {},
   "outputs": [],
   "source": [
    "test=pd.read_csv('test.csv')"
   ]
  },
  {
   "cell_type": "code",
   "execution_count": 3,
   "id": "7cba718d",
   "metadata": {},
   "outputs": [],
   "source": [
    "submission=pd.read_csv('submit.csv')"
   ]
  },
  {
   "cell_type": "code",
   "execution_count": 4,
   "id": "6573128c",
   "metadata": {},
   "outputs": [
    {
     "data": {
      "text/plain": [
       "id          0\n",
       "title     122\n",
       "author    503\n",
       "text        7\n",
       "dtype: int64"
      ]
     },
     "execution_count": 4,
     "metadata": {},
     "output_type": "execute_result"
    }
   ],
   "source": [
    "test.isnull().sum()"
   ]
  },
  {
   "cell_type": "code",
   "execution_count": 5,
   "id": "6c440688",
   "metadata": {},
   "outputs": [],
   "source": [
    "test[\"text\"] = test[\"title\"] + \" \" + test[\"text\"]"
   ]
  },
  {
   "cell_type": "code",
   "execution_count": 6,
   "id": "18e79393",
   "metadata": {},
   "outputs": [],
   "source": [
    "def fill_data(data):\n",
    "    data[\"title\"] = data[\"title\"].fillna(\"No Title\")\n",
    "    data[\"text\"] = data[\"text\"].fillna(\"No text\")\n",
    "    return data"
   ]
  },
  {
   "cell_type": "code",
   "execution_count": 7,
   "id": "9308e09c",
   "metadata": {},
   "outputs": [],
   "source": [
    "test = fill_data(test)"
   ]
  },
  {
   "cell_type": "code",
   "execution_count": 8,
   "id": "e6b0d393",
   "metadata": {},
   "outputs": [],
   "source": [
    "test.drop(columns=['id', 'author', 'title'], inplace=True)"
   ]
  },
  {
   "cell_type": "code",
   "execution_count": 9,
   "id": "421f2a05",
   "metadata": {},
   "outputs": [
    {
     "data": {
      "text/html": [
       "<div>\n",
       "<style scoped>\n",
       "    .dataframe tbody tr th:only-of-type {\n",
       "        vertical-align: middle;\n",
       "    }\n",
       "\n",
       "    .dataframe tbody tr th {\n",
       "        vertical-align: top;\n",
       "    }\n",
       "\n",
       "    .dataframe thead th {\n",
       "        text-align: right;\n",
       "    }\n",
       "</style>\n",
       "<table border=\"1\" class=\"dataframe\">\n",
       "  <thead>\n",
       "    <tr style=\"text-align: right;\">\n",
       "      <th></th>\n",
       "      <th>text</th>\n",
       "    </tr>\n",
       "  </thead>\n",
       "  <tbody>\n",
       "    <tr>\n",
       "      <th>0</th>\n",
       "      <td>Specter of Trump Loosens Tongues, if Not Purse...</td>\n",
       "    </tr>\n",
       "    <tr>\n",
       "      <th>1</th>\n",
       "      <td>Russian warships ready to strike terrorists ne...</td>\n",
       "    </tr>\n",
       "    <tr>\n",
       "      <th>2</th>\n",
       "      <td>#NoDAPL: Native American Leaders Vow to Stay A...</td>\n",
       "    </tr>\n",
       "    <tr>\n",
       "      <th>3</th>\n",
       "      <td>Tim Tebow Will Attempt Another Comeback, This ...</td>\n",
       "    </tr>\n",
       "    <tr>\n",
       "      <th>4</th>\n",
       "      <td>Keiser Report: Meme Wars (E995) 42 mins ago 1 ...</td>\n",
       "    </tr>\n",
       "  </tbody>\n",
       "</table>\n",
       "</div>"
      ],
      "text/plain": [
       "                                                text\n",
       "0  Specter of Trump Loosens Tongues, if Not Purse...\n",
       "1  Russian warships ready to strike terrorists ne...\n",
       "2  #NoDAPL: Native American Leaders Vow to Stay A...\n",
       "3  Tim Tebow Will Attempt Another Comeback, This ...\n",
       "4  Keiser Report: Meme Wars (E995) 42 mins ago 1 ..."
      ]
     },
     "execution_count": 9,
     "metadata": {},
     "output_type": "execute_result"
    }
   ],
   "source": [
    "test.head()"
   ]
  },
  {
   "cell_type": "code",
   "execution_count": 10,
   "id": "03d7bc5f",
   "metadata": {},
   "outputs": [],
   "source": [
    "df =test.copy()"
   ]
  },
  {
   "cell_type": "code",
   "execution_count": 11,
   "id": "0b8b286d",
   "metadata": {},
   "outputs": [],
   "source": [
    "lemmatizer = WordNetLemmatizer()"
   ]
  },
  {
   "cell_type": "code",
   "execution_count": 12,
   "id": "a08a6244",
   "metadata": {},
   "outputs": [],
   "source": [
    "# Define a function for cleaning and preprocessing text\n",
    "def preprocess_text(text):\n",
    "    # Remove HTML tags\n",
    "    text = re.sub(r'<.*?>', '', text)\n",
    "    # Remove special characters and numbers\n",
    "    text = re.sub(r'[^a-zA-Z\\s]', '', text)\n",
    "    # Convert to lowercase\n",
    "    text = text.lower()\n",
    "    # Tokenize\n",
    "    tokens = text.split()\n",
    "    # Remove stop words and lemmatize\n",
    "    tokens = [lemmatizer.lemmatize(word) for word in tokens if word not in stopwords.words('english')]\n",
    "    return tokens\n",
    "\n",
    "df['clean_text'] = df['text'].apply(preprocess_text)\n",
    "\n",
    "# Tokenize the text\n",
    "tokenizer = Tokenizer()\n",
    "tokenizer.fit_on_texts(df['clean_text'])\n",
    "sequences = tokenizer.texts_to_sequences(df['clean_text'])\n",
    "\n",
    "# Pad sequences to ensure uniform length\n",
    "max_sequence_length = 1000\n",
    "data = pad_sequences(sequences, maxlen=max_sequence_length)"
   ]
  },
  {
   "cell_type": "markdown",
   "id": "5d5b98a4",
   "metadata": {},
   "source": [
    "### Load Model"
   ]
  },
  {
   "cell_type": "code",
   "execution_count": 16,
   "id": "c43846c8",
   "metadata": {},
   "outputs": [],
   "source": [
    "from tensorflow.keras.models import load_model"
   ]
  },
  {
   "cell_type": "code",
   "execution_count": 17,
   "id": "dd9494c3",
   "metadata": {},
   "outputs": [],
   "source": [
    "model = load_model('lstm_model.h5')"
   ]
  },
  {
   "cell_type": "code",
   "execution_count": 18,
   "id": "c9052750",
   "metadata": {},
   "outputs": [
    {
     "name": "stdout",
     "output_type": "stream",
     "text": [
      "163/163 [==============================] - 57s 347ms/step\n"
     ]
    }
   ],
   "source": [
    "prediction = model.predict(data)"
   ]
  },
  {
   "cell_type": "code",
   "execution_count": null,
   "id": "0bb9c546",
   "metadata": {},
   "outputs": [],
   "source": [
    "# Predict the values from the test set\n",
    "y_pred = model.predict(X_test)\n",
    "y_pred_classes = (y_pred > 0.5).astype(\"int32\")"
   ]
  },
  {
   "cell_type": "code",
   "execution_count": 20,
   "id": "b78b2898",
   "metadata": {},
   "outputs": [],
   "source": [
    "y_predicted = prediction.flatten()"
   ]
  },
  {
   "cell_type": "code",
   "execution_count": 21,
   "id": "5e336e7a",
   "metadata": {},
   "outputs": [
    {
     "data": {
      "text/plain": [
       "array([0, 1, 1, ..., 1, 1, 0])"
      ]
     },
     "execution_count": 21,
     "metadata": {},
     "output_type": "execute_result"
    }
   ],
   "source": [
    "y_predicted = np.where(y_predicted > 0.5, 1, 0)\n",
    "y_predicted"
   ]
  },
  {
   "cell_type": "code",
   "execution_count": 22,
   "id": "3bf3ef60",
   "metadata": {},
   "outputs": [],
   "source": [
    "submission[\"label_2\"] = y_predicted"
   ]
  },
  {
   "cell_type": "code",
   "execution_count": 26,
   "id": "c597e10e",
   "metadata": {},
   "outputs": [
    {
     "data": {
      "text/html": [
       "<div>\n",
       "<style scoped>\n",
       "    .dataframe tbody tr th:only-of-type {\n",
       "        vertical-align: middle;\n",
       "    }\n",
       "\n",
       "    .dataframe tbody tr th {\n",
       "        vertical-align: top;\n",
       "    }\n",
       "\n",
       "    .dataframe thead th {\n",
       "        text-align: right;\n",
       "    }\n",
       "</style>\n",
       "<table border=\"1\" class=\"dataframe\">\n",
       "  <thead>\n",
       "    <tr style=\"text-align: right;\">\n",
       "      <th></th>\n",
       "      <th>id</th>\n",
       "      <th>label</th>\n",
       "      <th>label_2</th>\n",
       "    </tr>\n",
       "  </thead>\n",
       "  <tbody>\n",
       "    <tr>\n",
       "      <th>0</th>\n",
       "      <td>20800</td>\n",
       "      <td>0</td>\n",
       "      <td>0</td>\n",
       "    </tr>\n",
       "    <tr>\n",
       "      <th>1</th>\n",
       "      <td>20801</td>\n",
       "      <td>1</td>\n",
       "      <td>1</td>\n",
       "    </tr>\n",
       "    <tr>\n",
       "      <th>2</th>\n",
       "      <td>20802</td>\n",
       "      <td>0</td>\n",
       "      <td>1</td>\n",
       "    </tr>\n",
       "    <tr>\n",
       "      <th>3</th>\n",
       "      <td>20803</td>\n",
       "      <td>1</td>\n",
       "      <td>1</td>\n",
       "    </tr>\n",
       "    <tr>\n",
       "      <th>4</th>\n",
       "      <td>20804</td>\n",
       "      <td>1</td>\n",
       "      <td>1</td>\n",
       "    </tr>\n",
       "  </tbody>\n",
       "</table>\n",
       "</div>"
      ],
      "text/plain": [
       "      id  label  label_2\n",
       "0  20800      0        0\n",
       "1  20801      1        1\n",
       "2  20802      0        1\n",
       "3  20803      1        1\n",
       "4  20804      1        1"
      ]
     },
     "execution_count": 26,
     "metadata": {},
     "output_type": "execute_result"
    }
   ],
   "source": [
    "submission.head(5)"
   ]
  }
 ],
 "metadata": {
  "kernelspec": {
   "display_name": "Python 3 (ipykernel)",
   "language": "python",
   "name": "python3"
  },
  "language_info": {
   "codemirror_mode": {
    "name": "ipython",
    "version": 3
   },
   "file_extension": ".py",
   "mimetype": "text/x-python",
   "name": "python",
   "nbconvert_exporter": "python",
   "pygments_lexer": "ipython3",
   "version": "3.11.5"
  }
 },
 "nbformat": 4,
 "nbformat_minor": 5
}
